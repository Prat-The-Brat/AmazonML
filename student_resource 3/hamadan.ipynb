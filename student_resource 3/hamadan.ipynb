{
 "cells": [
  {
   "cell_type": "code",
   "execution_count": 8,
   "metadata": {},
   "outputs": [],
   "source": [
    "from src.utils import download_images\n",
    "import pandas as pd"
   ]
  },
  {
   "cell_type": "code",
   "execution_count": 9,
   "metadata": {},
   "outputs": [
    {
     "name": "stderr",
     "output_type": "stream",
     "text": [
      "100%|██████████| 88/88 [00:03<00:00, 28.09it/s]\n"
     ]
    }
   ],
   "source": [
    "csv_file = './dataset/sample_test.csv'\n",
    "df = pd.read_csv(csv_file)\n",
    "\n",
    "# Step 2: Extract image links from the 'image_link' column\n",
    "image_links = df['image_link'].tolist()\n",
    "\n",
    "# Step 3: Call the download_images function\n",
    "download_folder = 'images'  # Specify your download folder\n",
    "\n",
    "download_images(image_links, download_folder, allow_multiprocessing=True)"
   ]
  },
  {
   "cell_type": "code",
   "execution_count": 11,
   "metadata": {},
   "outputs": [
    {
     "name": "stdout",
     "output_type": "stream",
     "text": [
      "Detected Text: Product Information\n",
      "\n",
      "Specifications:\n",
      "\n",
      "Material: Premium Beech Wood\n",
      "\n",
      "Size: 50*13.5*11¢0m / 19.7*13.5*4.1inch\n",
      "Rod Diameter: 3.8cm / 1.5inch\n",
      "\n",
      "Weight: 2.1KG / 4.6lbs\n",
      "\n",
      "Load Bearing: 300KG / 660lbs\n",
      "\n",
      "Large Size:\n",
      "\n",
      "16.9in/43cm\n",
      "\n",
      "= W9G'OL/ULL 7\n",
      "\n",
      "  \n",
      "\n",
      "19.7in/50c¢m —<— 5.3in/13.5em —>\n",
      "\f\n"
     ]
    }
   ],
   "source": [
    "from PIL import Image\n",
    "import pytesseract\n",
    "\n",
    "img = Image.open('./images/71v+pim0lfL.jpg')\n",
    "\n",
    "text = pytesseract.image_to_string(img)\n",
    "\n",
    "print(\"Detected Text:\", text)\n",
    "\n"
   ]
  },
  {
   "cell_type": "code",
   "execution_count": null,
   "metadata": {},
   "outputs": [],
   "source": []
  }
 ],
 "metadata": {
  "kernelspec": {
   "display_name": "Python 3",
   "language": "python",
   "name": "python3"
  },
  "language_info": {
   "codemirror_mode": {
    "name": "ipython",
    "version": 3
   },
   "file_extension": ".py",
   "mimetype": "text/x-python",
   "name": "python",
   "nbconvert_exporter": "python",
   "pygments_lexer": "ipython3",
   "version": "3.10.12"
  }
 },
 "nbformat": 4,
 "nbformat_minor": 2
}
